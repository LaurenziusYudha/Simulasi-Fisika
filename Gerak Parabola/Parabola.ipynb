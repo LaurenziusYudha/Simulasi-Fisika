{
 "cells": [
  {
   "cell_type": "code",
   "execution_count": 8,
   "metadata": {},
   "outputs": [],
   "source": [
    "import numpy as np\n",
    "import matplotlib.pyplot as plt\n",
    "\n",
    "def shooting_euler(theta):\n",
    "    #input besaran fisis (SI)\n",
    "    g = 9.81\n",
    "    x_awal = 0\n",
    "    y_awal = 0\n",
    "    x_akhir = 30\n",
    "    y_akhir = 10\n",
    "    \n",
    "    #tebakan nilai kecepatan awal\n",
    "    v_awal_1 = 20\n",
    "    v_awal_2 = 30\n",
    "    \n",
    "    #input besaran perhitungan\n",
    "    x = np.linspace(x_awal, x_akhir, 1000)\n",
    "    \n",
    "    y1 = np.empty([len(x)], dtype = 'float')\n",
    "    v1 = np.empty([len(x)], dtype = 'float')\n",
    "    theta1 = np.empty([len(x)], dtype = 'float')\n",
    "    y1[0] = y_awal\n",
    "    v1[0] = v_awal_1\n",
    "    theta1[0] = theta\n",
    "    \n",
    "    y2 = np.empty([len(x)], dtype = 'float')\n",
    "    v2 = np.empty([len(x)], dtype = 'float')\n",
    "    theta2 = np.empty([len(x)], dtype = 'float')\n",
    "    y2[0] = y_awal\n",
    "    v2[0] = v_awal_2\n",
    "    theta2[0] = theta\n",
    "    \n",
    "    delta_x = (x_akhir - x_awal)/len(x)\n",
    "    \n",
    "    while abs(v2[0] - v1[0]) > 1e-5:\n",
    "        for i in range(1,len(x)):\n",
    "            y1[i] = y1[i-1] + np.tan(theta1[i-1])*delta_x\n",
    "            v1[i] = v1[i-1] - (g/v1[i-1])*np.tan(theta1[i-1])*delta_x\n",
    "            theta1[i] = theta1[i-1] - (g/(v1[i-1]**2))*delta_x\n",
    "            \n",
    "            y2[i] = y2[i-1] + np.tan(theta2[i-1])*delta_x\n",
    "            v2[i] = v2[i-1] - (g/v2[i-1])*np.tan(theta2[i-1])*delta_x\n",
    "            theta2[i] = theta2[i-1] - (g/(v2[i-1]**2))*delta_x\n",
    "        \n",
    "        v3 = v2[0] - ((y2[len(x)-1] - y_akhir)*(v2[0] - v1[0]))/(y2[len(x)-1] - y1[len(x)-1])\n",
    "        v1[0] = v2[0]\n",
    "        v2[0] = v3\n",
    "        \n",
    "    return v1[0], y1, v1"
   ]
  },
  {
   "cell_type": "code",
   "execution_count": 3,
   "metadata": {
    "scrolled": true
   },
   "outputs": [
    {
     "data": {
      "text/html": [
       "<div>\n",
       "<style scoped>\n",
       "    .dataframe tbody tr th:only-of-type {\n",
       "        vertical-align: middle;\n",
       "    }\n",
       "\n",
       "    .dataframe tbody tr th {\n",
       "        vertical-align: top;\n",
       "    }\n",
       "\n",
       "    .dataframe thead th {\n",
       "        text-align: right;\n",
       "    }\n",
       "</style>\n",
       "<table border=\"1\" class=\"dataframe\">\n",
       "  <thead>\n",
       "    <tr style=\"text-align: right;\">\n",
       "      <th></th>\n",
       "      <th>Sudut Awal (rad)</th>\n",
       "      <th>Kecepatan Awal (m/s)</th>\n",
       "    </tr>\n",
       "  </thead>\n",
       "  <tbody>\n",
       "    <tr>\n",
       "      <th>0</th>\n",
       "      <td>0.4</td>\n",
       "      <td>44.070110</td>\n",
       "    </tr>\n",
       "    <tr>\n",
       "      <th>1</th>\n",
       "      <td>0.5</td>\n",
       "      <td>29.944755</td>\n",
       "    </tr>\n",
       "    <tr>\n",
       "      <th>2</th>\n",
       "      <td>0.6</td>\n",
       "      <td>24.800991</td>\n",
       "    </tr>\n",
       "    <tr>\n",
       "      <th>3</th>\n",
       "      <td>0.7</td>\n",
       "      <td>22.215927</td>\n",
       "    </tr>\n",
       "    <tr>\n",
       "      <th>4</th>\n",
       "      <td>0.8</td>\n",
       "      <td>20.850301</td>\n",
       "    </tr>\n",
       "    <tr>\n",
       "      <th>5</th>\n",
       "      <td>0.9</td>\n",
       "      <td>20.256633</td>\n",
       "    </tr>\n",
       "    <tr>\n",
       "      <th>6</th>\n",
       "      <td>1.0</td>\n",
       "      <td>20.281908</td>\n",
       "    </tr>\n",
       "    <tr>\n",
       "      <th>7</th>\n",
       "      <td>1.1</td>\n",
       "      <td>20.932744</td>\n",
       "    </tr>\n",
       "    <tr>\n",
       "      <th>8</th>\n",
       "      <td>1.2</td>\n",
       "      <td>22.380633</td>\n",
       "    </tr>\n",
       "    <tr>\n",
       "      <th>9</th>\n",
       "      <td>1.3</td>\n",
       "      <td>25.117196</td>\n",
       "    </tr>\n",
       "    <tr>\n",
       "      <th>10</th>\n",
       "      <td>1.4</td>\n",
       "      <td>30.649399</td>\n",
       "    </tr>\n",
       "    <tr>\n",
       "      <th>11</th>\n",
       "      <td>1.5</td>\n",
       "      <td>46.857722</td>\n",
       "    </tr>\n",
       "  </tbody>\n",
       "</table>\n",
       "</div>"
      ],
      "text/plain": [
       "    Sudut Awal (rad)  Kecepatan Awal (m/s)\n",
       "0                0.4             44.070110\n",
       "1                0.5             29.944755\n",
       "2                0.6             24.800991\n",
       "3                0.7             22.215927\n",
       "4                0.8             20.850301\n",
       "5                0.9             20.256633\n",
       "6                1.0             20.281908\n",
       "7                1.1             20.932744\n",
       "8                1.2             22.380633\n",
       "9                1.3             25.117196\n",
       "10               1.4             30.649399\n",
       "11               1.5             46.857722"
      ]
     },
     "metadata": {},
     "output_type": "display_data"
    }
   ],
   "source": [
    "#Hasil Evaluasi Kecepatan untuk 0.4 <= theta <= 1.5\n",
    "\n",
    "from IPython.display import display\n",
    "import pandas as pd\n",
    "\n",
    "theta_awal = np.linspace(0.4, 1.5, 12)\n",
    "kecepatan_awal = []\n",
    "for j in range(len(theta_awal)):\n",
    "    kecepatan_awal.append(shooting_euler(theta_awal[j])[0])\n",
    "\n",
    "hasil = {'Sudut Awal (rad)': theta_awal, 'Kecepatan Awal (m/s)': kecepatan_awal}\n",
    "df = pd.DataFrame(hasil)\n",
    "display(df)"
   ]
  },
  {
   "cell_type": "code",
   "execution_count": 17,
   "metadata": {
    "scrolled": true
   },
   "outputs": [
    {
     "data": {
      "image/png": "[encoded data removed]",
      "text/plain": [
       "<Figure size 432x288 with 1 Axes>"
      ]
     },
     "metadata": {
      "needs_background": "light"
     },
     "output_type": "display_data"
    }
   ],
   "source": [
    "from matplotlib.animation import FuncAnimation\n",
    "from celluloid import Camera\n",
    "\n",
    "fig = plt.figure()\n",
    "plt.title('Lintasan Proyektil')\n",
    "plt.xlabel('sumbu x (m)')\n",
    "plt.ylabel('sumbu y(m)')\n",
    "sumbux = np.linspace(0, 30, 1000)\n",
    "partikel_1 = shooting_euler(0.5)[1]\n",
    "partikel_2 = shooting_euler(0.9)[1]\n",
    "partikel_3 = shooting_euler(1.4)[1]\n",
    "camera = Camera(fig)\n",
    "\n",
    "for k in range(len(sumbux)):\n",
    "    plt.plot(sumbux[0:k], partikel_1[0:k], color = 'red')\n",
    "    plt.plot(sumbux[0:k], partikel_2[0:k], color = 'green')\n",
    "    plt.plot(sumbux[0:k], partikel_3[0:k], color = 'blue')\n",
    "    camera.snap()\n",
    "animation = camera.animate()\n",
    "animation.save('D:\\parabola.mp4', writer = 'ffmpeg', fps=120, dpi=300)"
   ]
  },
  {
   "cell_type": "code",
   "execution_count": 10,
   "metadata": {},
   "outputs": [
    {
     "data": {
      "text/plain": [
       "1000"
      ]
     },
     "execution_count": 10,
     "metadata": {},
     "output_type": "execute_result"
    }
   ],
   "source": [
    "len(sumbux)"
   ]
  },
  {
   "cell_type": "code",
   "execution_count": 9,
   "metadata": {},
   "outputs": [
    {
     "data": {
      "image/png": "[encoded data removed]",
      "text/plain": [
       "<Figure size 432x288 with 1 Axes>"
      ]
     },
     "metadata": {
      "needs_background": "light"
     },
     "output_type": "display_data"
    }
   ],
   "source": [
    "#Energi Potensial per satuan massa dari partikel dengan sudut awal 0.5, 0.9, dan 1.4 rad\n",
    "EP_1 = 9.81*shooting_euler(0.5)[1]\n",
    "EP_2 = 9.81*shooting_euler(0.9)[1]\n",
    "EP_3 = 9.81*shooting_euler(1.4)[1]\n",
    "\n",
    "t_maks_1 = 30/shooting_euler(0.5)[0]\n",
    "t_1 = np.linspace(0, t_maks_1, 1000)\n",
    "t_maks_2 = 30/shooting_euler(0.9)[0]\n",
    "t_2 = np.linspace(0, t_maks_2, 1000)\n",
    "t_maks_3 = 30/shooting_euler(1.4)[0]\n",
    "t_3 = np.linspace(0, t_maks_3, 1000)\n",
    "\n",
    "plt.plot(t_1, EP_1, label = 'theta0 = 0.5')\n",
    "plt.plot(t_2, EP_2, label = 'theta0 = 0.9')\n",
    "plt.plot(t_3, EP_3, label = 'theta0 = 1.4')\n",
    "plt.title('EP Partikel')\n",
    "plt.xlabel('waktu (s)')\n",
    "plt.ylabel('EP (J/kg)')\n",
    "plt.legend()\n",
    "plt.show()"
   ]
  },
  {
   "cell_type": "code",
   "execution_count": 10,
   "metadata": {},
   "outputs": [
    {
     "data": {
      "image/png": "[encoded data removed]",
      "text/plain": [
       "<Figure size 432x288 with 1 Axes>"
      ]
     },
     "metadata": {
      "needs_background": "light"
     },
     "output_type": "display_data"
    }
   ],
   "source": [
    "#Energi Kinetik per satuan massa dari partikel dengan sudut awal 0.5, 0.9, dan 1.4 rad\n",
    "EK_1 = 0.5*shooting_euler(0.5)[2]*shooting_euler(0.5)[2]\n",
    "EK_2 = 0.5*shooting_euler(0.9)[2]*shooting_euler(0.9)[2]\n",
    "EK_3 = 0.5*shooting_euler(1.4)[2]*shooting_euler(1.4)[2]\n",
    "\n",
    "plt.plot(t_1, EK_1, label = 'theta0 = 0.5')\n",
    "plt.plot(t_2, EK_2, label = 'theta0 = 0.9')\n",
    "plt.plot(t_3, EK_3, label = 'theta0 = 1.4')\n",
    "plt.title('EK Partikel')\n",
    "plt.xlabel('waktu (s)')\n",
    "plt.ylabel('EK (J/kg)')\n",
    "plt.legend()\n",
    "plt.show()"
   ]
  },
  {
   "cell_type": "code",
   "execution_count": 12,
   "metadata": {},
   "outputs": [
    {
     "data": {
      "image/png": "[encoded data removed]",
      "text/plain": [
       "<Figure size 432x288 with 1 Axes>"
      ]
     },
     "metadata": {
      "needs_background": "light"
     },
     "output_type": "display_data"
    }
   ],
   "source": [
    "#Energi Mekanik per satuan massa dari partikel dengan sudut awal 0.5, 0.9, dan 1.4 rad\n",
    "EM_1 = EK_1 + EP_1\n",
    "EM_2 = EK_2 + EP_2\n",
    "EM_3 = EK_3 + EP_3\n",
    "\n",
    "plt.plot(t_1, EM_1, label = 'theta0 = 0.5')\n",
    "plt.plot(t_2, EM_2, label = 'theta0 = 0.9')\n",
    "plt.plot(t_3, EM_3, label = 'theta0 = 1.4')\n",
    "plt.title('EM Partikel')\n",
    "plt.xlabel('waktu (s)')\n",
    "plt.ylabel('EM (J/kg)')\n",
    "plt.legend()\n",
    "plt.show()"
   ]
  },
  {
   "cell_type": "code",
   "execution_count": null,
   "metadata": {},
   "outputs": [],
   "source": []
  }
 ],
 "metadata": {
  "kernelspec": {
   "display_name": "Python 3",
   "language": "python",
   "name": "python3"
  },
  "language_info": {
   "codemirror_mode": {
    "name": "ipython",
    "version": 3
   },
   "file_extension": ".py",
   "mimetype": "text/x-python",
   "name": "python",
   "nbconvert_exporter": "python",
   "pygments_lexer": "ipython3",
   "version": "3.8.3"
  }
 },
 "nbformat": 4,
 "nbformat_minor": 4
}
