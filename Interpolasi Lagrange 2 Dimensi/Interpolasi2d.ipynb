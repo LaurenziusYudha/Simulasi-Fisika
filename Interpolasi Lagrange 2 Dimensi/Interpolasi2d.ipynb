{
 "cells": [
  {
   "cell_type": "code",
   "execution_count": 2,
   "metadata": {},
   "outputs": [
    {
     "name": "stdout",
     "output_type": "stream",
     "text": [
      "      i   j    x    y     z\n",
      "0     1   1 -7.0 -7.0 -0.11\n",
      "1     1   2 -7.0 -6.0 -0.77\n",
      "2     1   3 -7.0 -5.0  0.11\n",
      "3     1   4 -7.0 -4.0  1.36\n",
      "4     1   5 -7.0 -3.0  0.65\n",
      "..   ..  ..  ...  ...   ...\n",
      "220  15  11  7.0  3.0 -1.63\n",
      "221  15  12  7.0  4.0  0.20\n",
      "222  15  13  7.0  5.0  1.39\n",
      "223  15  14  7.0  6.0 -0.26\n",
      "224  15  15  7.0  7.0 -1.75\n",
      "\n",
      "[225 rows x 5 columns]\n"
     ]
    }
   ],
   "source": [
    "from numpy import c_\n",
    "\n",
    "import numpy as np\n",
    "import matplotlib.pyplot as plt\n",
    "import pandas as pd\n",
    "import seaborn as sns\n",
    "\n",
    "#membaca data masukan\n",
    "dataspsf = pd.read_csv(\"spsf_data.txt\", sep = \"    \", engine = 'python')\n",
    "\n",
    "print(dataspsf)"
   ]
  },
  {
   "cell_type": "code",
   "execution_count": 10,
   "metadata": {},
   "outputs": [
    {
     "data": {
      "image/png": "[encoded data removed]",
      "text/plain": [
       "<Figure size 432x288 with 2 Axes>"
      ]
     },
     "metadata": {
      "needs_background": "light"
     },
     "output_type": "display_data"
    }
   ],
   "source": [
    "#mencoba keluaran dari data masukan\n",
    "\n",
    "inputin = dataspsf.iloc[:,2:5]\n",
    "inputin = inputin.pivot(\"y\",\"x\",\"z\")\n",
    "ax = sns.heatmap(inputin, cmap = \"YlGnBu\")\n",
    "ax.set_title('Data Sebelum Interpolasi')\n",
    "ax.get_figure().savefig('DataSebelumInterpolasi.png', dpi = 500)"
   ]
  },
  {
   "cell_type": "code",
   "execution_count": 4,
   "metadata": {
    "scrolled": false
   },
   "outputs": [],
   "source": [
    "#menyusun array 2d yang berisi data awal\n",
    "zin1d = np.array(dataspsf['z'])\n",
    "zin2d = np.reshape(zin1d,(15,15))\n",
    "zpol = []\n",
    "\n",
    "for i in range(29):\n",
    "    for j in range(29):\n",
    "        if i%2 == 0 and j%2 == 0:\n",
    "            zpol.append(zin2d[i//2][j//2])\n",
    "        else:\n",
    "            zpol.append(0)\n",
    "#array 2d berisi data awal\n",
    "zpol2d = np.reshape(zpol,(29,29))\n",
    "\n",
    "#menghitung nilai interpolasi kotak merah\n",
    "for i in range(29):\n",
    "    for j in range (28):\n",
    "        if i%2 == 0 and j%2 == 1:\n",
    "            zpol2d[i][j] = 0.5*(zpol2d[i][j-1] + zpol2d[i][j+1])\n",
    "#menghitung nilai interpolasi kotak hijau dan x\n",
    "for j in range(29):\n",
    "    for i in range(28):\n",
    "        if i%2 == 1:\n",
    "            zpol2d[i][j] = 0.5*(zpol2d[i-1][j]+zpol2d[i+1][j])\n",
    "            \n",
    "#mengembalikan array hasil interpolasi menjadi data keluaran yang diinginkan\n",
    "zhasil = np.reshape(zpol2d,(1,841))\n",
    "xpol = np.linspace(-7,7,29)\n",
    "ypol = np.linspace(-7,7,29)\n",
    "\n",
    "#menyusun array keluaran akhir\n",
    "#menyusun kolom indeks i dan j\n",
    "x = np.linspace(1,29,29)\n",
    "kolom_i = np.repeat(x,29)\n",
    "kolom_j = np.tile(x,29)\n",
    "#kolom x\n",
    "kolom_x = np.repeat(xpol,29)\n",
    "#kolom y\n",
    "kolom_y = np.tile(ypol,29)\n",
    "\n",
    "#Array hasil akhir\n",
    "HasilAkhir = np.vstack((kolom_i,kolom_j,kolom_x,kolom_y,zhasil)).T"
   ]
  },
  {
   "cell_type": "code",
   "execution_count": 5,
   "metadata": {},
   "outputs": [
    {
     "name": "stdout",
     "output_type": "stream",
     "text": [
      "        i     j  xpol  ypol   zpol\n",
      "0     1.0   1.0  -7.0  -7.0 -0.110\n",
      "1     1.0   2.0  -7.0  -6.5 -0.440\n",
      "2     1.0   3.0  -7.0  -6.0 -0.770\n",
      "3     1.0   4.0  -7.0  -5.5 -0.330\n",
      "4     1.0   5.0  -7.0  -5.0  0.110\n",
      "..    ...   ...   ...   ...    ...\n",
      "836  29.0  25.0   7.0   5.0  1.390\n",
      "837  29.0  26.0   7.0   5.5  0.565\n",
      "838  29.0  27.0   7.0   6.0 -0.260\n",
      "839  29.0  28.0   7.0   6.5 -1.005\n",
      "840  29.0  29.0   7.0   7.0 -1.750\n",
      "\n",
      "[841 rows x 5 columns]\n"
     ]
    }
   ],
   "source": [
    "#Menuliskan keluaran dalam bentuk tabel dengan format .txt\n",
    "HasilAkhirBanget = pd.DataFrame({'i':HasilAkhir[:,0],'j':HasilAkhir[:,1],'xpol':HasilAkhir[:,2],'ypol':HasilAkhir[:,3],'zpol':HasilAkhir[:,4]})\n",
    "np.savetxt('spsf_hasil_interpolasi.txt', HasilAkhirBanget.values, fmt='%1.2f', delimiter=\"\\t\", header=\"i\\tj\\tx\\ty\\tz\")\n",
    "\n",
    "print(HasilAkhirBanget)"
   ]
  },
  {
   "cell_type": "code",
   "execution_count": 9,
   "metadata": {},
   "outputs": [
    {
     "data": {
      "image/png": "[encoded data removed]",
      "text/plain": [
       "<Figure size 432x288 with 2 Axes>"
      ]
     },
     "metadata": {
      "needs_background": "light"
     },
     "output_type": "display_data"
    }
   ],
   "source": [
    "#memplot data hasil interpolasi\n",
    "\n",
    "dataipol = pd.read_csv(\"spsf_hasil_interpolasi.txt\", sep = \"\\t\")\n",
    "inputpol = dataipol.iloc[:,2:5]\n",
    "inputpol = inputpol.pivot(\"y\",\"x\",\"z\")\n",
    "bx = sns.heatmap(inputpol, cmap = 'YlGnBu')\n",
    "bx.set_title('Data Setelah Interpolasi')\n",
    "bx.get_figure().savefig('DataSetelahterpolasi.png', dpi = 500)"
   ]
  },
  {
   "cell_type": "code",
   "execution_count": null,
   "metadata": {},
   "outputs": [],
   "source": []
  }
 ],
 "metadata": {
  "kernelspec": {
   "display_name": "Python 3",
   "language": "python",
   "name": "python3"
  },
  "language_info": {
   "codemirror_mode": {
    "name": "ipython",
    "version": 3
   },
   "file_extension": ".py",
   "mimetype": "text/x-python",
   "name": "python",
   "nbconvert_exporter": "python",
   "pygments_lexer": "ipython3",
   "version": "3.8.3"
  }
 },
 "nbformat": 4,
 "nbformat_minor": 4
}
